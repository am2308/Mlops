{
 "cells": [
  {
   "cell_type": "code",
   "execution_count": null,
   "metadata": {},
   "outputs": [],
   "source": [
    "from sagemaker.workflow.pipeline import Pipeline\n",
    "from sagemaker.workflow.steps import TrainingStep, ModelStep\n",
    "from sagemaker.workflow.model_step import ModelStep\n",
    "from sagemaker.workflow.parameters import ParameterString\n",
    "\n",
    "# Define pipeline parameters\n",
    "input_data = ParameterString(name=\"InputData\", default_value=\"s3://my-bucket/train.csv\")\n",
    "\n",
    "# Define training step\n",
    "training_step = TrainingStep(\n",
    "    name=\"TrainModel\",\n",
    "    estimator=estimator,\n",
    "    inputs={\"train\": input_data}\n",
    ")\n",
    "\n",
    "# Define model step\n",
    "model_step = ModelStep(\n",
    "    name=\"RegisterModel\",\n",
    "    step_args=model.create()\n",
    ")\n",
    "\n",
    "# Create pipeline\n",
    "pipeline = Pipeline(\n",
    "    name=\"MyMLOpsPipeline\",\n",
    "    steps=[training_step, model_step],\n",
    "    parameters=[input_data]\n",
    ")\n",
    "\n",
    "# Deploy pipeline\n",
    "pipeline.upsert(role_arn=\"arn:aws:iam::123456789012:role/SageMakerRole\")"
   ]
  }
 ],
 "metadata": {
  "language_info": {
   "name": "python"
  },
  "orig_nbformat": 4
 },
 "nbformat": 4,
 "nbformat_minor": 2
}
